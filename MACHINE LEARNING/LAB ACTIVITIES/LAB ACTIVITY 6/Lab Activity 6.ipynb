{
 "cells": [
  {
   "cell_type": "markdown",
   "id": "4aec9897-a448-4c0b-b563-0ebe9e313b22",
   "metadata": {},
   "source": [
    "# Lab Activity 6: Write a program to implement Categorical Encoding, One-hot Encoding"
   ]
  },
  {
   "cell_type": "markdown",
   "id": "6cd02fe2-9b40-43be-88bb-aca7dac3c9ef",
   "metadata": {},
   "source": [
    "```mermaid\n",
    "graph TD\n",
    "    A[Categorical Encoding] --> B[Label Encoding]\n",
    "    A --> C[Ordinal Encoding]\n",
    "    A --> D[One-Hot Encoding]"
   ]
  },
  {
   "cell_type": "markdown",
   "id": "8614d2ad-f016-432e-b56c-1e653a82d9a5",
   "metadata": {},
   "source": [
    "# Categorical Encoding Methods: Label Encoding and One-Hot Encoding\n",
    "\n",
    "## Objective\n",
    "To learn and apply categorical encoding methods **Label Encoding** and **One-Hot Encoding** to convert categorical data into numeric formats suitable for machine learning models.\n",
    "\n",
    "1. Understand how to utilize **Label Encoding** to assign integer values to categorical variables.\n",
    "2. Perform **One-Hot Encoding** using `pandas.get_dummies` and `scikit-learn OneHotEncoder` to create binary columns for categorical variables.\n",
    "3. Compare the results of both encoding methods and their use cases (e.g., ordinal vs. nominal data).\n",
    "4. Explain the role of encoding techniques on the structure of data, model interpretability, and factors such as dimensions, multicollinearity, and others.\n",
    "\n",
    "---"
   ]
  },
  {
   "cell_type": "markdown",
   "id": "c41adf39-2d9a-45a6-b13e-a0e3ed569ca9",
   "metadata": {},
   "source": [
    "## Label Encoding"
   ]
  },
  {
   "cell_type": "markdown",
   "id": "54f5b0a7-1113-4579-b33c-5ca56b08ce0a",
   "metadata": {},
   "source": [
    "### Algorithm 6 a – Label Encoding\n",
    "\n",
    "1. Identify all unique categories in the dataset or in list.\n",
    "2. Assign a unique integer to each category, typically starting from 0.\n",
    "3. Replace the original categorical values with the corresponding integer values.\n",
    "\n",
    "   - **For Ordinal Data:**\n",
    "     - The encoding preserves the order (e.g., Small → 0, Medium → 1, Large → 2).\n",
    "\n",
    "   - **For Nominal Data:**\n",
    "     - The encoding is arbitrary (e.g., Red → 0, Blue → 1, Green → 2)."
   ]
  },
  {
   "cell_type": "code",
   "execution_count": 1,
   "id": "6e80ac1b-acfa-45ad-86d3-5e4c1683d358",
   "metadata": {},
   "outputs": [
    {
     "name": "stdout",
     "output_type": "stream",
     "text": [
      "   Color  Encoded\n",
      "0    Red        2\n",
      "1   Blue        0\n",
      "2  Green        1\n",
      "3    Red        2\n",
      "4   Blue        0\n"
     ]
    }
   ],
   "source": [
    "from sklearn.preprocessing import LabelEncoder\n",
    "import pandas as pd\n",
    "\n",
    "# Sample data\n",
    "colors = ['Red', 'Blue', 'Green', 'Red', 'Blue']\n",
    "\n",
    "# Create a LabelEncoder instance\n",
    "label_encoder = LabelEncoder()\n",
    "\n",
    "# Apply label encoding\n",
    "encoded_colors = label_encoder.fit_transform(colors)\n",
    "\n",
    "# Display the results\n",
    "df = pd.DataFrame({\n",
    "    'Color': colors,\n",
    "    'Encoded': encoded_colors\n",
    "})\n",
    "print(df)"
   ]
  },
  {
   "cell_type": "markdown",
   "id": "63efe8e6-096e-4f0e-99d1-d4dae546dba7",
   "metadata": {},
   "source": [
    "---"
   ]
  },
  {
   "cell_type": "markdown",
   "id": "9105818e-6adb-426f-8168-20c0d64f9c1b",
   "metadata": {},
   "source": [
    "##  Ordinal Encoding"
   ]
  },
  {
   "cell_type": "markdown",
   "id": "15a06ec6-2f84-444a-8814-12176a4fe4d8",
   "metadata": {},
   "source": [
    "### Algorithm 6 b – Ordinal Encoding"
   ]
  },
  {
   "cell_type": "markdown",
   "id": "e6cd1cdf-15fe-4517-bde8-eea2dd79df28",
   "metadata": {},
   "source": [
    "1. **Identify the categories that have an inherent order.**\n",
    "   - Analyze the dataset to determine which categorical variables exhibit a natural sequence or hierarchy (e.g., Small, Medium, Large).\n",
    "\n",
    "2. **Assign each category a specific integer based on the desired order (e.g., Small → 1, Medium → 2, Large → 3).**\n",
    "   - Create a mapping where each category is assigned a unique integer reflecting its position in the order.\n",
    "\n",
    "3. **Replace the original categorical values with the corresponding integer values.**\n",
    "   - Update the dataset by substituting each categorical value with its assigned integer based on the mapping."
   ]
  },
  {
   "cell_type": "code",
   "execution_count": 2,
   "id": "107b01f5-12cf-411f-8592-962cb3f68b9c",
   "metadata": {},
   "outputs": [
    {
     "name": "stdout",
     "output_type": "stream",
     "text": [
      "     Size  Encoded\n",
      "0   Small        1\n",
      "1  Medium        2\n",
      "2   Large        3\n",
      "3   Small        1\n",
      "4  Medium        2\n"
     ]
    }
   ],
   "source": [
    "from sklearn.preprocessing import OrdinalEncoder\n",
    "import pandas as pd\n",
    "\n",
    "# Sample data (ordinal data)\n",
    "sizes = ['Small', 'Medium', 'Large', 'Small', 'Medium']\n",
    "\n",
    "# Create an OrdinalEncoder instance with a custom order\n",
    "ordinal_encoder = OrdinalEncoder(categories=[['Small', 'Medium', 'Large']])\n",
    "\n",
    "# Apply ordinal encoding\n",
    "encoded_sizes = ordinal_encoder.fit_transform([[size] for size in sizes])\n",
    "\n",
    "# Map the categories to specific integers (Small → 1, Medium → 2, Large → 3)\n",
    "encoded_sizes_custom = encoded_sizes + 1  # Adding 1 to match your desired order\n",
    "\n",
    "# Convert the result to integer (this is optional, since adding 1 will automatically make it integer)\n",
    "encoded_sizes_int = encoded_sizes_custom.astype(int)\n",
    "\n",
    "# Display the results\n",
    "df = pd.DataFrame({\n",
    "    'Size': sizes,\n",
    "    'Encoded': encoded_sizes_int.flatten()  # Flatten the array to 1D\n",
    "})\n",
    "print(df)"
   ]
  },
  {
   "cell_type": "markdown",
   "id": "d0fabea8-46d3-4e8f-8f56-c0bc623989c0",
   "metadata": {},
   "source": [
    "---"
   ]
  },
  {
   "cell_type": "markdown",
   "id": "89db699f-114a-4992-8d32-00b71118e646",
   "metadata": {},
   "source": [
    "##  One - Hot Encoding"
   ]
  },
  {
   "cell_type": "markdown",
   "id": "adbf3677-5a06-4436-8e1d-880dfc22da1b",
   "metadata": {},
   "source": [
    "### Algorithm 6 c – One - Hot Encoding"
   ]
  },
  {
   "cell_type": "markdown",
   "id": "88b5a806-e4ec-4994-8b88-5f92512f3974",
   "metadata": {},
   "source": [
    "### **Algorithm:**\n",
    "\n",
    "1. **Ordinal Encoding (Custom Order)**:\n",
    "\n",
    "   * **Goal:** Convert categorical data into integers while preserving a predefined order.\n",
    "   * **Steps:**\n",
    "\n",
    "     1. Define the custom order of categories.\n",
    "     2. Use `OrdinalEncoder` to encode data based on the predefined order.\n",
    "     3. Adjust the encoded integers to fit the desired starting point (e.g., starting from `1` instead of `0`).\n",
    "     4. Store the results in a DataFrame for further analysis.\n",
    "2. **One-Hot Encoding**:\n",
    "\n",
    "   * **Goal:** Convert categorical data into binary columns, where each category is represented by a separate column.\n",
    "   * **Steps:**\n",
    "\n",
    "     1. Create a DataFrame with the original categorical column.\n",
    "     2. Use `pd.get_dummies()` to create a binary matrix where each category gets its own column.\n",
    "     3. Display the results as a DataFrame where each category is represented as a binary vector.\n",
    "\n"
   ]
  },
  {
   "cell_type": "code",
   "execution_count": 3,
   "id": "7ecf59c6-8dc3-4b30-8601-43069a009d05",
   "metadata": {},
   "outputs": [
    {
     "name": "stdout",
     "output_type": "stream",
     "text": [
      "DataFrame after Ordinal Encoding:\n",
      "     Size  Ordinal_Encoded\n",
      "0   Small                1\n",
      "1  Medium                2\n",
      "2   Large                3\n",
      "3   Small                1\n",
      "4  Medium                2\n",
      "\n",
      "DataFrame after One-Hot Encoding:\n",
      "   Size_Large  Size_Medium  Size_Small\n",
      "0           0            0           1\n",
      "1           0            1           0\n",
      "2           1            0           0\n",
      "3           0            0           1\n",
      "4           0            1           0\n"
     ]
    }
   ],
   "source": [
    "from sklearn.preprocessing import OrdinalEncoder\n",
    "import pandas as pd\n",
    "\n",
    "# Sample data (ordinal data)\n",
    "sizes = ['Small', 'Medium', 'Large', 'Small', 'Medium']\n",
    "\n",
    "# 1. Ordinal Encoding (Custom Order)\n",
    "ordinal_encoder = OrdinalEncoder(categories=[['Small', 'Medium', 'Large']])\n",
    "encoded_sizes = ordinal_encoder.fit_transform([[size] for size in sizes])\n",
    "\n",
    "# Map the categories to specific integers (Small → 1, Medium → 2, Large → 3)\n",
    "encoded_sizes_custom = encoded_sizes + 1  # Adding 1 to match the custom order\n",
    "\n",
    "# Convert to integers\n",
    "encoded_sizes_int = encoded_sizes_custom.astype(int)\n",
    "\n",
    "# Create DataFrame for Ordinal Encoding\n",
    "df_ordinal = pd.DataFrame({\n",
    "    'Size': sizes,\n",
    "    'Ordinal_Encoded': encoded_sizes_int.flatten()  # Flatten to make it a 1D array\n",
    "})\n",
    "\n",
    "# 2. One-Hot Encoding using pandas `get_dummies`\n",
    "df_one_hot = pd.DataFrame({\n",
    "    'Size': sizes\n",
    "})\n",
    "\n",
    "# Using pandas `get_dummies` for One-Hot Encoding and convert boolean to integers\n",
    "df_one_hot_encoded = pd.get_dummies(df_one_hot, columns=['Size'], prefix='Size')\n",
    "\n",
    "# Convert the boolean columns to integers (0 and 1)\n",
    "df_one_hot_encoded = df_one_hot_encoded.astype(int)\n",
    "\n",
    "# Display Results for both\n",
    "print(\"DataFrame after Ordinal Encoding:\")\n",
    "print(df_ordinal)\n",
    "\n",
    "print(\"\\nDataFrame after One-Hot Encoding:\")\n",
    "print(df_one_hot_encoded)"
   ]
  }
 ],
 "metadata": {
  "kernelspec": {
   "display_name": "Python [conda env:base] *",
   "language": "python",
   "name": "conda-base-py"
  },
  "language_info": {
   "codemirror_mode": {
    "name": "ipython",
    "version": 3
   },
   "file_extension": ".py",
   "mimetype": "text/x-python",
   "name": "python",
   "nbconvert_exporter": "python",
   "pygments_lexer": "ipython3",
   "version": "3.13.5"
  }
 },
 "nbformat": 4,
 "nbformat_minor": 5
}
