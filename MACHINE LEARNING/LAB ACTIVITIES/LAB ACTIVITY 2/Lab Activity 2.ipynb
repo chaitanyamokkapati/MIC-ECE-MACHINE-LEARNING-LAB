{
 "cells": [
  {
   "cell_type": "code",
   "execution_count": 5,
   "id": "b42549bb-c761-437e-a4e2-8e0d0206bac6",
   "metadata": {},
   "outputs": [],
   "source": [
    "import numpy as np\n",
    "import pandas as pd"
   ]
  },
  {
   "cell_type": "code",
   "execution_count": 6,
   "id": "0470ff46-1b47-47ed-a3cf-dd728c51fc49",
   "metadata": {},
   "outputs": [],
   "source": [
    "# Load data from CSV\n",
    "data = pd.read_csv('finds1.csv')\n",
    "\n",
    "# Extract features (concepts) and labels (target)\n",
    "concepts = np.array(data.iloc[:, :-1])\n",
    "target = np.array(data.iloc[:, -1])"
   ]
  },
  {
   "cell_type": "code",
   "execution_count": 7,
   "id": "21a3f8f9-8366-4706-bc2b-2e3111599844",
   "metadata": {},
   "outputs": [],
   "source": [
    "def learn(concepts, target):\n",
    "    # Step 1: Initialize S and G\n",
    "    specific_h = concepts[0].copy()\n",
    "    general_h = [[\"?\" for _ in range(len(specific_h))] for _ in range(len(specific_h))]\n",
    "\n",
    "    print(\"Initialization:\")\n",
    "    print(\"Specific Hypothesis:\", specific_h)\n",
    "    print(\"General Hypotheses:\", general_h)\n",
    "    print(\"-\" * 50)\n",
    "\n",
    "    # Step 2: Iterate through training examples\n",
    "    for i, h in enumerate(concepts):\n",
    "        if target[i] == \"Yes\":  # Positive example\n",
    "            for x in range(len(specific_h)):\n",
    "                if h[x] != specific_h[x]:\n",
    "                    specific_h[x] = '?'\n",
    "                    general_h[x][x] = '?'\n",
    "        elif target[i] == \"No\":  # Negative example\n",
    "            for x in range(len(specific_h)):\n",
    "                if h[x] != specific_h[x]:\n",
    "                    general_h[x][x] = specific_h[x]\n",
    "                else:\n",
    "                    general_h[x][x] = '?'\n",
    "\n",
    "        # Print current state\n",
    "        print(f\"Step {i + 1} - Training on example {h}, Target: {target[i]}\")\n",
    "        print(\"Specific Hypothesis now:\", specific_h)\n",
    "        print(\"General Hypotheses now:\", general_h)\n",
    "        print(\"-\" * 50)\n",
    "\n",
    "    # Step 3: Filter out overly general hypotheses\n",
    "    final_general_h = []\n",
    "    for g in general_h:\n",
    "        if g != ['?'] * len(specific_h):\n",
    "            final_general_h.append(g)\n",
    "\n",
    "    return specific_h, final_general_h"
   ]
  },
  {
   "cell_type": "code",
   "execution_count": 8,
   "id": "9f7bca42-5bdc-4871-a19e-fcebec849dc7",
   "metadata": {},
   "outputs": [
    {
     "name": "stdout",
     "output_type": "stream",
     "text": [
      "Initialization:\n",
      "Specific Hypothesis: ['Sunny' 'Warm' 'Normal' 'Strong' 'Warm' 'Same']\n",
      "General Hypotheses: [['?', '?', '?', '?', '?', '?'], ['?', '?', '?', '?', '?', '?'], ['?', '?', '?', '?', '?', '?'], ['?', '?', '?', '?', '?', '?'], ['?', '?', '?', '?', '?', '?'], ['?', '?', '?', '?', '?', '?']]\n",
      "--------------------------------------------------\n",
      "Step 1 - Training on example ['Sunny' 'Warm' 'Normal' 'Strong' 'Warm' 'Same'], Target: Yes\n",
      "Specific Hypothesis now: ['Sunny' 'Warm' 'Normal' 'Strong' 'Warm' 'Same']\n",
      "General Hypotheses now: [['?', '?', '?', '?', '?', '?'], ['?', '?', '?', '?', '?', '?'], ['?', '?', '?', '?', '?', '?'], ['?', '?', '?', '?', '?', '?'], ['?', '?', '?', '?', '?', '?'], ['?', '?', '?', '?', '?', '?']]\n",
      "--------------------------------------------------\n",
      "Step 2 - Training on example ['Sunny' 'Warm' 'High' 'Strong' 'Warm' 'Same'], Target: Yes\n",
      "Specific Hypothesis now: ['Sunny' 'Warm' '?' 'Strong' 'Warm' 'Same']\n",
      "General Hypotheses now: [['?', '?', '?', '?', '?', '?'], ['?', '?', '?', '?', '?', '?'], ['?', '?', '?', '?', '?', '?'], ['?', '?', '?', '?', '?', '?'], ['?', '?', '?', '?', '?', '?'], ['?', '?', '?', '?', '?', '?']]\n",
      "--------------------------------------------------\n",
      "Step 3 - Training on example ['Rainy' 'Cold' 'High' 'Strong' 'Warm' 'Change'], Target: No\n",
      "Specific Hypothesis now: ['Sunny' 'Warm' '?' 'Strong' 'Warm' 'Same']\n",
      "General Hypotheses now: [['Sunny', '?', '?', '?', '?', '?'], ['?', 'Warm', '?', '?', '?', '?'], ['?', '?', '?', '?', '?', '?'], ['?', '?', '?', '?', '?', '?'], ['?', '?', '?', '?', '?', '?'], ['?', '?', '?', '?', '?', 'Same']]\n",
      "--------------------------------------------------\n",
      "Step 4 - Training on example ['Sunny' 'Warm' 'High' 'Strong' 'Cool' 'Change'], Target: Yes\n",
      "Specific Hypothesis now: ['Sunny' 'Warm' '?' 'Strong' '?' '?']\n",
      "General Hypotheses now: [['Sunny', '?', '?', '?', '?', '?'], ['?', 'Warm', '?', '?', '?', '?'], ['?', '?', '?', '?', '?', '?'], ['?', '?', '?', '?', '?', '?'], ['?', '?', '?', '?', '?', '?'], ['?', '?', '?', '?', '?', '?']]\n",
      "--------------------------------------------------\n",
      "Final Specific Hypothesis:\n",
      "['Sunny' 'Warm' '?' 'Strong' '?' '?']\n",
      "\n",
      "Final General Hypotheses:\n",
      "['Sunny', '?', '?', '?', '?', '?']\n",
      "['?', 'Warm', '?', '?', '?', '?']\n"
     ]
    }
   ],
   "source": [
    "# Run learning algorithm\n",
    "s_final, g_final = learn(concepts, target)\n",
    "\n",
    "# Final output\n",
    "print(\"Final Specific Hypothesis:\")\n",
    "print(s_final)\n",
    "\n",
    "print(\"\\nFinal General Hypotheses:\")\n",
    "for g in g_final:\n",
    "    print(g)"
   ]
  }
 ],
 "metadata": {
  "kernelspec": {
   "display_name": "Python [conda env:base] *",
   "language": "python",
   "name": "conda-base-py"
  },
  "language_info": {
   "codemirror_mode": {
    "name": "ipython",
    "version": 3
   },
   "file_extension": ".py",
   "mimetype": "text/x-python",
   "name": "python",
   "nbconvert_exporter": "python",
   "pygments_lexer": "ipython3",
   "version": "3.13.5"
  }
 },
 "nbformat": 4,
 "nbformat_minor": 5
}
